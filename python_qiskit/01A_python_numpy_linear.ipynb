{
 "cells": [
  {
   "cell_type": "markdown",
   "metadata": {},
   "source": [
    "# 📘 Bloque 1: Recorrido rápido por `numpy.linalg` en espacios de baja dimensión\n",
    "\n",
    "## Introducción\n",
    "\n",
    "En muchas aplicaciones de ciencias e ingeniería necesitamos manipular vectores y matrices.  \n",
    "Python nos ofrece el módulo **`numpy.linalg`**, que contiene funciones clásicas del álgebra lineal.\n",
    "\n",
    "Para no perdernos en notación complicada, haremos un recorrido rápido en espacios pequeños:\n",
    "\n",
    "- **Vectores** en $\\mathbb{R}^2$ y $\\mathbb{R}^3$.  \n",
    "- **Matrices** $2 \\times 2$ y $3 \\times 3$.  \n",
    "\n",
    "Este recorrido nos dará las herramientas necesarias para trabajar más adelante con sistemas más grandes (como el de las monedas).  \n",
    "\n",
    "---\n",
    "\n",
    "## 🔑 Funciones principales de `numpy.linalg`\n",
    "\n",
    "### 1. Producto interno → `np.dot(a, b)`\n",
    "- Calcula:  \n",
    "  $$\\langle a, b \\rangle = a_1 b_1 + a_2 b_2 + \\dots$$  \n",
    "- Mide el **grado de alineación** entre dos vectores.  \n",
    "  - Si es positivo y grande → vectores apuntan en direcciones similares.  \n",
    "  - Si es cero → son ortogonales (perpendiculares).  \n",
    "  - Si es negativo → apuntan en direcciones opuestas.  \n",
    "\n",
    "---\n",
    "\n",
    "### 2. Norma → `np.linalg.norm(a)`\n",
    "- Longitud de un vector:  \n",
    "  $$\\|a\\| = \\sqrt{a_1^2 + a_2^2 + \\dots}$$  \n",
    "- Es útil para **normalizar vectores** o comparar magnitudes.  \n",
    "\n",
    "---\n",
    "\n",
    "### 3. Producto cruzado → `np.cross(a, b)` (solo en 3D)\n",
    "- Devuelve un vector **perpendicular** a $a$ y $b$.  \n",
    "- Se usa mucho en geometría y física para calcular áreas o direcciones normales.  \n",
    "\n",
    "---\n",
    "\n",
    "### 4. Determinante → `np.linalg.det(A)`\n",
    "- Escalar asociado a una matriz cuadrada.  \n",
    "- Nos dice si la matriz es invertible:  \n",
    "  - $\\det(A) \\neq 0 \\;\\;\\Rightarrow\\;\\;$ invertible.  \n",
    "  - $\\det(A) = 0 \\;\\;\\Rightarrow\\;\\;$ singular (no invertible).  \n",
    "\n",
    "---\n",
    "\n",
    "### 5. Traza → `np.trace(A)`\n",
    "- Suma de los elementos de la diagonal principal:  \n",
    "  $$\\text{tr}(A) = \\sum_i A_{ii}$$  \n",
    "- Tiene propiedades útiles en física y probabilidad.  \n",
    "\n",
    "---\n",
    "\n",
    "### 6. Inversa → `np.linalg.inv(A)`\n",
    "- Si existe, es la matriz que “revierte” la acción de $A$:  \n",
    "  $$A^{-1} A = I$$  \n",
    "\n",
    "---\n",
    "\n",
    "### 7. Autovalores y autovectores → `np.linalg.eig(A)`\n",
    "- Encuentra $\\lambda$ y $v$ tales que:  \n",
    "  $$Av = \\lambda v$$  \n",
    "- Son esenciales en el **análisis de sistemas dinámicos** y, más adelante, en **operadores cuánticos**.  \n"
   ]
  },
  {
   "cell_type": "code",
   "execution_count": 2,
   "metadata": {},
   "outputs": [
    {
     "name": "stdout",
     "output_type": "stream",
     "text": [
      "=== Producto interno en R2 ===\n",
      "5\n",
      "\n",
      "=== Norma de un vector en R3 ===\n",
      "1.4142135623730951\n",
      "\n",
      "=== Producto cruzado en R3 ===\n",
      "[ 2 -1  2]\n"
     ]
    }
   ],
   "source": [
    "import numpy as np\n",
    "\n",
    "# Definimos vectores en R2 y R3\n",
    "v2_a = np.array([1, 2])\n",
    "v2_b = np.array([3, 1])\n",
    "\n",
    "v3_a = np.array([1, 0, -1])\n",
    "v3_b = np.array([0, 2, 1])\n",
    "\n",
    "print(\"=== Producto interno en R2 ===\")\n",
    "print(np.dot(v2_a, v2_b))  # 1*3 + 2*1\n",
    "\n",
    "print(\"\\n=== Norma de un vector en R3 ===\")\n",
    "print(np.linalg.norm(v3_a))  # sqrt(1^2 + 0^2 + (-1)^2)\n",
    "\n",
    "print(\"\\n=== Producto cruzado en R3 ===\")\n",
    "print(np.cross(v3_a, v3_b))\n"
   ]
  },
  {
   "cell_type": "code",
   "execution_count": 3,
   "metadata": {},
   "outputs": [
    {
     "name": "stdout",
     "output_type": "stream",
     "text": [
      "\n",
      "=== Determinante 2x2 ===\n",
      "5.000000000000001\n",
      "\n",
      "=== Traza 3x3 ===\n",
      "3\n",
      "\n",
      "=== Inversa de A2 ===\n",
      "[[ 0.6 -0.2]\n",
      " [-0.2  0.4]]\n",
      "\n",
      "=== Autovalores y autovectores de A3 ===\n",
      "Autovalores: [0.20629947+1.37472964j 0.20629947-1.37472964j 2.58740105+0.j        ]\n",
      "Autovectores (columnas):\n",
      " [[-0.27875333+0.48281494j -0.27875333-0.48281494j -0.55750667+0.j        ]\n",
      " [-0.22124667-0.38321047j -0.22124667+0.38321047j -0.44249333+0.j        ]\n",
      " [ 0.70241438+0.j          0.70241438-0.j         -0.70241438+0.j        ]]\n"
     ]
    }
   ],
   "source": [
    "\n",
    "# Definimos matrices\n",
    "A2 = np.array([[2, 1],\n",
    "               [1, 3]])\n",
    "\n",
    "A3 = np.array([[1, 2, 0],\n",
    "               [0, 1, 1],\n",
    "               [2, 0, 1]])\n",
    "\n",
    "print(\"\\n=== Determinante 2x2 ===\")\n",
    "print(np.linalg.det(A2))\n",
    "\n",
    "print(\"\\n=== Traza 3x3 ===\")\n",
    "print(np.trace(A3))\n",
    "\n",
    "print(\"\\n=== Inversa de A2 ===\")\n",
    "print(np.linalg.inv(A2))\n",
    "\n",
    "print(\"\\n=== Autovalores y autovectores de A3 ===\")\n",
    "eigvals, eigvecs = np.linalg.eig(A3)\n",
    "print(\"Autovalores:\", eigvals)\n",
    "print(\"Autovectores (columnas):\\n\", eigvecs)\n"
   ]
  },
  {
   "cell_type": "markdown",
   "metadata": {},
   "source": [
    "# 📘 Bloque 2: De conteos a transiciones (Slicing)\n",
    "\n",
    "Imagina que tienes un sistema con **3 estados**:  \n",
    "- $S_0$  \n",
    "- $S_1$  \n",
    "- $S_2$  \n",
    "\n",
    "En cada paso de tiempo, parte de lo que hay en un estado “pasa” a otros estados.  \n",
    "Durante una observación previa se midieron estas **proporciones de salida** desde cada estado (cada columna resume lo que sale de ese estado):\n",
    "\n",
    "- Desde $S_0$: 20% termina en $S_0$, 30% en $S_1$, 50% en $S_2$.  \n",
    "- Desde $S_1$: 50% termina en $S_0$, 20% en $S_1$, 30% en $S_2$.  \n",
    "- Desde $S_2$: 30% termina en $S_0$, 50% en $S_1$, 20% en $S_2$.  \n",
    "\n",
    "---\n",
    "\n",
    "\n",
    "\n",
    "\n",
    "\n"
   ]
  },
  {
   "cell_type": "markdown",
   "metadata": {},
   "source": [
    "\n",
    "> Pregunta 1. ¿Cómo pondrías estos datos en una **matriz A** para poder calcular el siguiente paso del sistema a partir de un **vector** `x` de cantidades actuales?\n",
    "Podemos organizar esta información en una matriz $A$ de $3 \\times 3$, donde la **columna $i$** describe cómo se reparte lo que sale del estado $S_i$:\n",
    "\n",
    "$$\n",
    "A =\n",
    "\\begin{bmatrix}\n",
    "0.2 & 0.5 & 0.3 \\\\\n",
    "0.3 & 0.2 & 0.5 \\\\\n",
    "0.5 & 0.3 & 0.2\n",
    "\\end{bmatrix}\n",
    "$$\n"
   ]
  },
  {
   "cell_type": "code",
   "execution_count": 4,
   "metadata": {},
   "outputs": [
    {
     "name": "stdout",
     "output_type": "stream",
     "text": [
      "Matriz A:\n",
      " [[0.2 0.5 0.3]\n",
      " [0.3 0.2 0.5]\n",
      " [0.5 0.3 0.2]]\n"
     ]
    }
   ],
   "source": [
    "import numpy as np\n",
    "\n",
    "A = np.array([[0.2, 0.5, 0.3],\n",
    "              [0.3, 0.2, 0.5],\n",
    "              [0.5, 0.3, 0.2]])\n",
    "\n",
    "print(\"Matriz A:\\n\", A)\n"
   ]
  },
  {
   "cell_type": "markdown",
   "metadata": {},
   "source": [
    "\n",
    "\n",
    "> Pregunta 2. Observa `A[:, i]` y `A[i, :]`. ¿Qué información te da cada una respecto a “desde dónde” y “hacia dónde”? \n",
    "Usaremos indexación tipo \n",
    "\n",
    "`A[:,i]` (columna).\n",
    "\n",
    "`A[i,:]` (fila) \n",
    "\n",
    "Analizaremos sumas, patrones y multiplicaciones por vectores."
   ]
  },
  {
   "cell_type": "code",
   "execution_count": 5,
   "metadata": {},
   "outputs": [
    {
     "name": "stdout",
     "output_type": "stream",
     "text": [
      "\n",
      "Columna 0: [0.2 0.3 0.5]  → suma = 1.0\n",
      "Columna 1: [0.5 0.2 0.3]  → suma = 1.0\n",
      "Columna 2: [0.3 0.5 0.2]  → suma = 1.0\n",
      "Fila 0: [0.2 0.5 0.3]  → suma = 1.0\n",
      "Fila 1: [0.3 0.2 0.5]  → suma = 1.0\n",
      "Fila 2: [0.5 0.3 0.2]  → suma = 1.0\n"
     ]
    }
   ],
   "source": [
    "\n",
    "print(\"\\nColumna 0:\", A[:, 0], \" → suma =\", A[:,0].sum())\n",
    "print(\"Columna 1:\", A[:, 1], \" → suma =\", A[:,1].sum())\n",
    "print(\"Columna 2:\", A[:, 2], \" → suma =\", A[:,2].sum())\n",
    "\n",
    "\n",
    "print(\"Fila 0:\", A[0, :], \" → suma =\", A[0,:].sum())\n",
    "print(\"Fila 1:\", A[1, :], \" → suma =\", A[1,:].sum())\n",
    "print(\"Fila 2:\", A[2, :], \" → suma =\", A[2,:].sum())\n",
    "\n",
    "\n"
   ]
  },
  {
   "cell_type": "markdown",
   "metadata": {},
   "source": [
    "> Pregunta 3. Si inicialmente todo está en $S_0$(100% en $S_0$), ¿cómo evoluciona en 1, 2 y 3 iteraciones?"
   ]
  },
  {
   "cell_type": "markdown",
   "metadata": {},
   "source": [
    "\n",
    "## 📊 Evolución del sistema\n",
    "\n",
    "Si el vector de estado inicial es:\n",
    "\n",
    "$$\n",
    "x^{(0)} =\n",
    "\\begin{bmatrix}\n",
    "1 \\\\\n",
    "0 \\\\\n",
    "0\n",
    "\\end{bmatrix}\n",
    "$$\n",
    "\n",
    "(significa que todo empieza en $S_0$), entonces los siguientes pasos se calculan como:\n",
    "\n",
    "- 1 paso: $x^{(1)} = A \\, x^{(0)}$  \n",
    "- 2 pasos: $x^{(2)} = A \\, x^{(1)} = A^2 x^{(0)}$  \n",
    "- 3 pasos: $x^{(3)} = A \\, x^{(2)} = A^3 x^{(0)}$  \n",
    "\n"
   ]
  },
  {
   "cell_type": "code",
   "execution_count": 6,
   "metadata": {},
   "outputs": [
    {
     "name": "stdout",
     "output_type": "stream",
     "text": [
      "Vector inicial: [1 0 0]\n",
      "\n",
      "Después de 1 iteración: [0.2 0.3 0.5]\n",
      "Después de 2 iteraciones: [0.34 0.37 0.29]\n",
      "Después de 3 iteraciones: [0.34  0.321 0.339]\n"
     ]
    }
   ],
   "source": [
    "x = np.array([1, 0, 0])\n",
    "print(\"Vector inicial:\", x)\n",
    "\n",
    "#A es la matriz que representa el operador probabilístico\n",
    "x1 = A @ x # Operador probabilistico por vector inicial\n",
    "x2 = A @ x1 # Operador probabilistico por vector resultante 1\n",
    "x3 = A @ x2 # Operador probabilistico por vector resultante 2\n",
    "\n",
    "print(\"\\nDespués de 1 iteración:\", x1)\n",
    "print(\"Después de 2 iteraciones:\", x2)\n",
    "print(\"Después de 3 iteraciones:\", x3)\n"
   ]
  },
  {
   "cell_type": "markdown",
   "metadata": {},
   "source": [
    "## Evolución de Operadores Probablisticos `np.linalg.matrix_power(matriz, potencia)`\n",
    "\n",
    "Ya vimos cómo la matriz $A$ nos permite calcular el siguiente estado del sistema a partir de uno inicial.  \n",
    "La idea se generaliza fácilmente:\n",
    "\n",
    "Si $x^{(0)}$ es el vector inicial, entonces después de $n$ pasos:\n",
    "\n",
    "$$\n",
    "x^{(n)} = A^n \\, x^{(0)}.\n",
    "$$\n",
    "\n",
    "Donde $A^n$ significa multiplicar la matriz $A$ consigo misma $n$ veces.  \n",
    "En Python podemos usar `np.linalg.matrix_power(A, n)` para calcular directamente $A^n$.\n",
    "\n",
    "---\n",
    "\n",
    "### Ejemplo en Python\n",
    "\n",
    "```python\n",
    "import numpy as np\n",
    "\n",
    "# Matriz de transición A\n",
    "A = np.array([\n",
    "    [0.2, 0.5, 0.3],\n",
    "    [0.3, 0.2, 0.5],\n",
    "    [0.5, 0.3, 0.2]\n",
    "])\n",
    "\n",
    "# Vector inicial: todo en S0\n",
    "x0 = np.array([1, 0, 0])\n",
    "\n",
    "# Un paso: x(1) = A @ x0\n",
    "x1 = A @ x0\n",
    "\n",
    "# Tres pasos: x(3) = A^3 @ x0\n",
    "A3 = np.linalg.matrix_power(A, 3)\n",
    "x3 = A3 @ x0\n",
    "\n",
    "print(\"x(1):\", x1)\n",
    "print(\"x(3):\", x3)\n"
   ]
  },
  {
   "cell_type": "markdown",
   "metadata": {},
   "source": [
    "## 🔹 Delta de Kronecker – Visualización\n",
    "\n",
    "El **delta de Kronecker** se define como:\n",
    "\n",
    "$$\n",
    "\\delta_{ij} =\n",
    "\\begin{cases}\n",
    "1 & \\text{si } i = j \\\\\n",
    "0 & \\text{si } i \\ne j\n",
    "\\end{cases}\n",
    "$$\n",
    "\n",
    "---\n",
    "\n",
    "### 🔹 Ejemplo visual con una matriz 4x4\n",
    "\n",
    "Si consideramos \\(i, j = 0, 1, 2, 3\\), podemos construir la **matriz de valores $\\delta_{ij}$**:\n",
    "\n",
    "| i\\j | 0 | 1 | 2 | 3 |\n",
    "|-----|---|---|---|---|\n",
    "| 0   | 1 | 0 | 0 | 0 |\n",
    "| 1   | 0 | 1 | 0 | 0 |\n",
    "| 2   | 0 | 0 | 1 | 0 |\n",
    "| 3   | 0 | 0 | 0 | 1 |\n",
    "\n",
    "✅ Observaciones:\n",
    "\n",
    "- Los **1** aparecen **solo cuando i = j**, formando la diagonal principal.  \n",
    "- Los **0** aparecen en todas las posiciones donde $i \\ne j$.  \n",
    "- Esto **no significa que delta “solo devuelve diagonales”**, sino que en la construcción de la matriz identidad se ve así.\n",
    "\n",
    "---\n",
    "\n",
    "### 🔹 Representación del deltra de como código Python\n",
    "\n",
    "```python\n",
    "import numpy as np\n",
    "\n",
    "n = 4\n",
    "I = np.array([[1 if i==j else 0 for j in range(n)] for i in range(n)])\n",
    "print(I)\n"
   ]
  },
  {
   "cell_type": "code",
   "execution_count": 7,
   "metadata": {},
   "outputs": [
    {
     "name": "stdout",
     "output_type": "stream",
     "text": [
      "[[1 0 0 0]\n",
      " [0 1 0 0]\n",
      " [0 0 1 0]\n",
      " [0 0 0 1]]\n"
     ]
    }
   ],
   "source": [
    "import numpy as np\n",
    "\n",
    "n = 4\n",
    "I = np.array([[1 if i==j else 0 for j in range(n)] for i in range(n)])\n",
    "print(I)"
   ]
  }
 ],
 "metadata": {
  "kernelspec": {
   "display_name": "nickel20",
   "language": "python",
   "name": "python3"
  },
  "language_info": {
   "codemirror_mode": {
    "name": "ipython",
    "version": 3
   },
   "file_extension": ".py",
   "mimetype": "text/x-python",
   "name": "python",
   "nbconvert_exporter": "python",
   "pygments_lexer": "ipython3",
   "version": "3.11.0"
  }
 },
 "nbformat": 4,
 "nbformat_minor": 2
}
