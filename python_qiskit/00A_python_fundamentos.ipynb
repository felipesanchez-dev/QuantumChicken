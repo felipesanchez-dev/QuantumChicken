{
 "cells": [
  {
   "cell_type": "markdown",
   "metadata": {},
   "source": [
    "# 🐍 Fundamentos de Python – Guía Teórico–Práctica\n"
   ]
  },
  {
   "cell_type": "code",
   "execution_count": 1,
   "metadata": {},
   "outputs": [
    {
     "name": "stdout",
     "output_type": "stream",
     "text": [
      "Bienvenidos a la guía de fundamentos de Python 🐍\n"
     ]
    }
   ],
   "source": [
    "# Ejemplo de código introductorio\n",
    "print(\"Bienvenidos a la guía de fundamentos de Python 🐍\")\n"
   ]
  },
  {
   "cell_type": "markdown",
   "metadata": {},
   "source": [
    "## 1️⃣ Tipos de datos primitivos\n",
    "Python tiene varios tipos de datos básicos:\n",
    "- Enteros (`int`)\n",
    "- Flotantes (`float`)\n",
    "- Cadenas (`str`)\n",
    "- Booleanos (`bool`)\n"
   ]
  },
  {
   "cell_type": "code",
   "execution_count": 2,
   "metadata": {},
   "outputs": [
    {
     "name": "stdout",
     "output_type": "stream",
     "text": [
      "10 3.14 Hola True\n"
     ]
    }
   ],
   "source": [
    "a = 10       # int\n",
    "b = 3.14     # float\n",
    "c = \"Hola\"   # str\n",
    "d = True     # bool\n",
    "\n",
    "print(a, b, c, d)\n"
   ]
  },
  {
   "cell_type": "markdown",
   "metadata": {},
   "source": [
    "## 2️⃣ Conversión de tipos (Casting)\n",
    "Podemos transformar un tipo de dato a otro.\n"
   ]
  },
  {
   "cell_type": "code",
   "execution_count": 3,
   "metadata": {},
   "outputs": [
    {
     "name": "stdout",
     "output_type": "stream",
     "text": [
      "123 123.0 456\n"
     ]
    }
   ],
   "source": [
    "x = \"123\"\n",
    "y = int(x)        # de str a int\n",
    "z = float(x)      # de str a float\n",
    "s = str(456)      # de int a str\n",
    "print(y, z, s)\n"
   ]
  },
  {
   "cell_type": "markdown",
   "metadata": {},
   "source": [
    "## 3️⃣ Entrada de datos con `input()`\n",
    "El usuario puede introducir datos desde teclado.\n"
   ]
  },
  {
   "cell_type": "code",
   "execution_count": 4,
   "metadata": {},
   "outputs": [
    {
     "name": "stdout",
     "output_type": "stream",
     "text": [
      "10\n",
      "5\n"
     ]
    }
   ],
   "source": [
    "nombre = input(\"¿Cuál es tu nombre? \")\n",
    "edad = int(input(\"¿Cuántos años tienes? \"))  # convertimos a entero\n",
    "print(\"Hola\", nombre, \"tienes\", edad, \"años\")\n"
   ]
  },
  {
   "cell_type": "markdown",
   "metadata": {},
   "source": [
    "## 4️⃣ Listas\n",
    "Una lista es una colección ordenada y modificable.\n"
   ]
  },
  {
   "cell_type": "code",
   "execution_count": 5,
   "metadata": {},
   "outputs": [
    {
     "name": "stdout",
     "output_type": "stream",
     "text": [
      "10\n",
      "5\n"
     ]
    }
   ],
   "source": [
    "# In [0]:\n",
    "numeros = [10, 20, 30, 40]\n",
    "print(numeros[0])       # acceder al primer elemento\n",
    "numeros.append(50)      # agregar elemento\n",
    "print(len(numeros))     # longitud de la lista\n",
    "\n"
   ]
  },
  {
   "cell_type": "markdown",
   "metadata": {},
   "source": [
    "## 5️⃣ Condicional aplicado a listas\n",
    "Podemos verificar si un elemento está en la lista.\n"
   ]
  },
  {
   "cell_type": "code",
   "execution_count": null,
   "metadata": {},
   "outputs": [],
   "source": [
    "frutas = [\"manzana\", \"pera\", \"uva\"]\n",
    "\n",
    "if \"pera\" in frutas:\n",
    "    print(\"Sí está en la lista\")\n",
    "else:\n",
    "    print(\"No está en la lista\")\n"
   ]
  },
  {
   "cell_type": "markdown",
   "metadata": {},
   "source": [
    "## 6️⃣ Ciclos aplicados a listas\n",
    "Recorremos listas con `for` o `enumerate`.\n"
   ]
  },
  {
   "cell_type": "code",
   "execution_count": null,
   "metadata": {},
   "outputs": [],
   "source": [
    "for fruta in frutas:\n",
    "    print(fruta)\n",
    "\n",
    "for i, fruta in enumerate(frutas):\n",
    "    print(i, fruta)\n",
    "\n",
    "# generar una lista de cuadrados de numero de 0 a 9 (10 saltos)\n",
    "cuadrados = [x**2 for x in range(10)]\n",
    "print(cuadrados)  # [0,1,4,9,16,25,36,49,64,81]"
   ]
  },
  {
   "cell_type": "markdown",
   "metadata": {},
   "source": [
    "## 7️⃣ Diccionarios\n",
    "Estructuras con pares **clave: valor**.\n"
   ]
  },
  {
   "cell_type": "code",
   "execution_count": null,
   "metadata": {},
   "outputs": [],
   "source": [
    "persona = {\n",
    "    \"nombre\": \"Ana\",\n",
    "    \"edad\": 25,\n",
    "    \"ciudad\": \"Bogotá\"\n",
    "}\n",
    "print(persona[\"nombre\"])\n"
   ]
  },
  {
   "cell_type": "markdown",
   "metadata": {},
   "source": [
    "## 8️⃣ Recorrer diccionarios\n"
   ]
  },
  {
   "cell_type": "code",
   "execution_count": null,
   "metadata": {},
   "outputs": [],
   "source": [
    "for clave, valor in persona.items():\n",
    "    print(clave, \":\", valor)\n"
   ]
  },
  {
   "cell_type": "markdown",
   "metadata": {},
   "source": [
    "## 9️⃣ Vectores\n",
    "Un vector puede representarse como una lista de números.\n"
   ]
  },
  {
   "cell_type": "code",
   "execution_count": null,
   "metadata": {},
   "outputs": [],
   "source": [
    "vector = [1, 2, 3, 4, 5]\n",
    "print(\"Suma:\", sum(vector))\n"
   ]
  },
  {
   "cell_type": "markdown",
   "metadata": {},
   "source": [
    "## 1️⃣0 Matrices\n",
    "Podemos representar tablas de datos con listas de lista. (Bidimensional)\n"
   ]
  },
  {
   "cell_type": "code",
   "execution_count": null,
   "metadata": {},
   "outputs": [],
   "source": [
    "matriz = [\n",
    "    [1, 2, 3],\n",
    "    [4, 5, 6],\n",
    "    [7, 8, 9]\n",
    "]\n",
    "\n",
    "for fila in matriz:\n",
    "    for elem in fila:\n",
    "        print(elem, end=\" \")\n",
    "    print()\n"
   ]
  },
  {
   "cell_type": "markdown",
   "metadata": {},
   "source": [
    "## 1️⃣1️⃣ Try – Except (manejo de errores)\n",
    "Permite atrapar errores y evitar que el programa se detenga.\n"
   ]
  },
  {
   "cell_type": "code",
   "execution_count": null,
   "metadata": {},
   "outputs": [],
   "source": [
    "try:\n",
    "    numero = int(\"abc\")   # forzamos un error\n",
    "    print(\"El doble es:\", numero * 2)\n",
    "except ValueError:\n",
    "    print(\"Error: Debes ingresar un número válido\")\n"
   ]
  },
  {
   "cell_type": "markdown",
   "metadata": {},
   "source": [
    "## 1️⃣2️⃣ Funciones básicas\n"
   ]
  },
  {
   "cell_type": "code",
   "execution_count": null,
   "metadata": {},
   "outputs": [],
   "source": [
    "def promedio(lista):\n",
    "    return sum(lista) / len(lista)\n",
    "\n",
    "print(promedio([10, 20, 30]))\n"
   ]
  },
  {
   "cell_type": "markdown",
   "metadata": {},
   "source": [
    "## 1️⃣3️⃣ Strings y métodos útiles\n"
   ]
  },
  {
   "cell_type": "code",
   "execution_count": null,
   "metadata": {},
   "outputs": [],
   "source": [
    "texto = \"Python es Genial\"\n",
    "print(texto.upper())\n",
    "print(texto.lower())\n",
    "print(texto.split())\n",
    "print(texto[0:6])\n"
   ]
  },
  {
   "cell_type": "markdown",
   "metadata": {},
   "source": [
    "## 1️⃣4️⃣ Import y librerias\n",
    "\n",
    "### 🔹 Big Data / Ciencia de Datos\n",
    "\n",
    ">- `import numpy as np`  \n",
    "  👉 Librería fundamental para cálculo numérico, vectores, matrices, álgebra lineal.  \n",
    "  Es la base sobre la que se apoyan casi todas las demás librerías.\n",
    "\n",
    ">- `import pandas as pd`  \n",
    "  👉 Manejo de datos tabulares (tipo Excel o SQL), muy usado en análisis de datos y ETL.  \n",
    "\n",
    ">- `import matplotlib.pyplot as plt`  \n",
    "  👉 Visualización básica de gráficos: curvas, histogramas, dispersión.  \n",
    "\n",
    ">- `import seaborn as sns`  \n",
    "  👉 Visualización estadística avanzada y estilizada sobre matplotlib.  \n",
    "\n",
    ">- `import scipy`  \n",
    "  👉 Funciones científicas: optimización, estadística, transformadas, integración numérica.  \n",
    "\n",
    ">- `import sklearn`  \n",
    "  👉 Machine Learning clásico (clasificación, regresión, clustering, etc.).  \n",
    "\n",
    ">- `import dask`  \n",
    "  👉 Computación paralela y escalable: maneja datasets más grandes que la memoria.  \n",
    "\n",
    ">- `import pyspark`  \n",
    "  👉 Interfaz de Python para Apache Spark, usado en Big Data distribuido en clusters.  \n",
    "\n",
    ">- `import tensorflow as tf` / `import torch`  \n",
    "  👉 Redes neuronales y Deep Learning, usado en IA a gran escala.  \n",
    "\n",
    "---\n",
    "\n",
    "### 🔹 Computación Cuántica\n",
    "\n",
    ">- `from qiskit import QuantumCircuit, transpile, Aer, execute`  \n",
    "  👉 Qiskit es el framework más usado en Python para programar computadoras cuánticas.  \n",
    "  - `QuantumCircuit` → construye circuitos cuánticos.  \n",
    "  - `transpile` → optimiza circuitos para hardware específico.  \n",
    "  - `Aer` → simulador cuántico.  \n",
    "  - `execute` → corre el circuito en un backend.  \n",
    "\n",
    ">- `from qiskit.visualization import plot_histogram, plot_bloch_multivector`  \n",
    "  👉 Herramientas de visualización de estados cuánticos y resultados de medidas.  \n",
    "\n",
    ">- `from qiskit.algorithms import VQE, QAOA`  \n",
    "  👉 Algoritmos cuánticos de optimización y simulación de química.  \n",
    "\n",
    ">- `from qiskit.circuit.library import TwoLocal`  \n",
    "  👉 Bloques predefinidos de puertas cuánticas para armar ansatz en VQE/QAOA.  \n",
    "\n",
    ">- `import qiskit_ibm_runtime`  \n",
    "  👉 Permite ejecutar en **hardware real de IBM Quantum** (Paciancia, al final :D ).  \n",
    "\n",
    "---\n",
    "\n",
    "## 🔹 Utilidades generales\n",
    "\n",
    ">- `import time`  \n",
    "  👉 Medición de tiempos de ejecución, benchmarking.  \n",
    "\n",
    ">- `import os` / `import sys`  \n",
    "  👉 Acceso al sistema de archivos y variables de entorno.  \n",
    "\n",
    ">- `import itertools`  \n",
    "  👉 Herramientas de combinatoria (muy útil en simulaciones de estados cuánticos o bucles grandes).  \n",
    "\n",
    ">- `import random`  \n",
    "  👉 Generación de números aleatorios clásicos.  \n",
    "\n",
    ">- `import math`  \n",
    "  👉 Funciones matemáticas básicas (factorial, trigonometría, logaritmos).  \n",
    "\n",
    "---\n",
    "\n",
    ">👉 Recuerda que:  \n",
    ">- Que **Big Data** se apoya en herramientas de escalabilidad (Spark, Dask, Pandas).  \n",
    ">- Que **Cuántica** necesita librerías especializadas (Qiskit) pero también depende de NumPy, Matplotlib, etc.  \n",
    "\n",
    "\n"
   ]
  },
  {
   "cell_type": "code",
   "execution_count": null,
   "metadata": {},
   "outputs": [],
   "source": [
    "import math\n",
    "import random\n",
    "\n",
    "print(math.sqrt(16))\n",
    "print(random.randint(1, 6))\n"
   ]
  },
  {
   "cell_type": "markdown",
   "metadata": {},
   "source": [
    "## 1️⃣5️⃣ Cómo Resolver Sistemas de ecuaciones con matrices en Python\n",
    "\n",
    "\n",
    "Ejemplo:  \n",
    "Resolver el sistema\n",
    "\n",
    "$$\n",
    "\\begin{cases}\n",
    "2x + y - z + w = 8 \\\\\n",
    "-3x - y + 2z - w = -11 \\\\\n",
    "-2x + y + 2z + 2w = -3 \\\\\n",
    "x + 2y - z + 3w = 10\n",
    "\\end{cases}\n",
    "$$\n"
   ]
  },
  {
   "cell_type": "code",
   "execution_count": null,
   "metadata": {},
   "outputs": [],
   "source": [
    "import numpy as np\n",
    "\n",
    "# Matriz de coeficientes A\n",
    "A = np.array([\n",
    "    [2, 1, -1, 1],\n",
    "    [-3, -1, 2, -1],\n",
    "    [-2, 1, 2, 2],\n",
    "    [1, 2, -1, 3]\n",
    "])\n",
    "\n",
    "# Vector de resultados b\n",
    "b = np.array([8, -11, -3, 10])\n",
    "\n",
    "# Usamos la matriz inversa\n",
    "A_inv = np.linalg.inv(A)\n",
    "x = np.dot(A_inv, b)\n",
    "\n",
    "print(\"Solución del sistema:\")\n",
    "print(\"x1 =\", x[0])\n",
    "print(\"x2 =\", x[1])\n",
    "print(\"x3 =\", x[2])\n",
    "print(\"x4 =\", x[3])\n"
   ]
  },
  {
   "cell_type": "markdown",
   "metadata": {},
   "source": [
    "## 1️⃣6️⃣ Sistemas de ecuaciones con determinantes (Regla de Cramer)\n",
    "Otra forma de resolver un sistema es usando la **Regla de Cramer**, que se basa en determinantes.\n",
    "\n",
    "Ejemplo con el mismo sistema:\n",
    "\n",
    "$$\n",
    "\\begin{cases}\n",
    "2x + y - z + w = 8 \\\\\n",
    "-3x - y + 2z - w = -11 \\\\\n",
    "-2x + y + 2z + 2w = -3 \\\\\n",
    "x + 2y - z + 3w = 10\n",
    "\\end{cases}\n",
    "$$\n",
    "\n",
    "Pasos:\n",
    "1. Calcular el determinante de la matriz de coeficientes \\(A\\).  \n",
    "2. Reemplazar en \\(A\\) cada columna por el vector de resultados \\(b\\).  \n",
    "3. Dividir el determinante de cada nueva matriz entre \\(\\det(A)\\).  \n"
   ]
  },
  {
   "cell_type": "code",
   "execution_count": 6,
   "metadata": {},
   "outputs": [
    {
     "name": "stdout",
     "output_type": "stream",
     "text": [
      "Solución del sistema por Regla de Cramer:\n",
      "x1 = 0.9999999999999987\n",
      "x2 = 4.999999999999999\n",
      "x3 = -2.0\n",
      "x4 = -0.9999999999999993\n"
     ]
    }
   ],
   "source": [
    "import numpy as np\n",
    "\n",
    "# Matriz de coeficientes A\n",
    "A = np.array([\n",
    "    [2, 1, -1, 1],\n",
    "    [-3, -1, 2, -1],\n",
    "    [-2, 1, 2, 2],\n",
    "    [1, 2, -1, 3]\n",
    "])\n",
    "\n",
    "# Vector de resultados b\n",
    "b = np.array([8, -11, -3, 10])\n",
    "\n",
    "# Determinante de la matriz A\n",
    "detA = np.linalg.det(A)\n",
    "\n",
    "sol = []\n",
    "for i in range(len(b)):\n",
    "    # Copiamos la matriz A\n",
    "    Ai = np.copy(A)\n",
    "    # Reemplazamos la columna i por el vector b\n",
    "    Ai[:, i] = b\n",
    "    # Calculamos el determinante de la nueva matriz\n",
    "    detAi = np.linalg.det(Ai)\n",
    "    # Aplicamos la regla de Cramer\n",
    "    sol.append(detAi / detA)\n",
    "\n",
    "print(\"Solución del sistema por Regla de Cramer:\")\n",
    "for i, val in enumerate(sol, start=1):\n",
    "    print(f\"x{i} = {val}\")\n"
   ]
  },
  {
   "cell_type": "markdown",
   "metadata": {},
   "source": [
    "## 1️⃣7️⃣ Comparación de métodos para resolver sistemas de ecuaciones y FUNCIÓN SOLVER DE NUMPY\n",
    "Vamos a resolver el mismo sistema de 4×4 por tres métodos distintos:\n",
    "\n",
    "1. **Matriz inversa**  \n",
    "2. **Regla de Cramer (determinantes)**  \n",
    "3. **Método directo con `numpy.linalg.solve`**  \n",
    "\n",
    ">Además, mediremos el **tiempo de ejecución** de cada uno para comparar la eficiencia.\n"
   ]
  },
  {
   "cell_type": "code",
   "execution_count": 7,
   "metadata": {},
   "outputs": [
    {
     "name": "stdout",
     "output_type": "stream",
     "text": [
      "Método Inversa → [ 1.  5. -2. -1.] Tiempo: 0.018331 segundos\n",
      "Método Cramer  → [0.9999999999999987, 4.999999999999999, -2.0, -0.9999999999999993] Tiempo: 0.001 segundos\n",
      "Método Solve   → [ 1.  5. -2. -1.] Tiempo: 0.0 segundos\n"
     ]
    }
   ],
   "source": [
    "# Importamos librerías necesarias\n",
    "import numpy as np      # NumPy → operaciones matemáticas y algebra lineal\n",
    "import time             # Time → medir tiempos de ejecución\n",
    "\n",
    "# Creamos un diccionario que representa el sistema lineal Ax = b\n",
    "sistema = {\n",
    "    \"A\": np.array([     # Matriz de coeficientes (4x4)\n",
    "        [2, 1, -1, 1],\n",
    "        [-3, -1, 2, -1],\n",
    "        [-2, 1, 2, 2],\n",
    "        [1, 2, -1, 3]\n",
    "    ]),\n",
    "    \"b\": np.array([8, -11, -3, 10])   # Vector de resultados\n",
    "}\n",
    "\n",
    "# Extraemos A y b desde el diccionario para trabajar más fácil\n",
    "A = sistema[\"A\"]\n",
    "b = sistema[\"b\"]\n",
    "\n",
    "# ------------------------------------------------------------------\n",
    "# --- Método 1: Usando la matriz inversa ---\n",
    "t1 = time.time()              # Tomamos tiempo inicial\n",
    "A_inv = np.linalg.inv(A)      # Calculamos la inversa de A\n",
    "x_inv = np.dot(A_inv, b)      # Multiplicamos A⁻¹ * b para hallar la solución\n",
    "t2 = time.time()              # Tomamos tiempo final\n",
    "print(\"Método Inversa →\", x_inv, \"Tiempo:\", round(t2-t1, 6), \"segundos\")\n",
    "\n",
    "# ------------------------------------------------------------------\n",
    "# --- Método 2: Usando la Regla de Cramer ---\n",
    "t1 = time.time()              # Tiempo inicial\n",
    "detA = np.linalg.det(A)       # Determinante de A (debe ser ≠ 0 para que exista solución)\n",
    "sol_cramer = []               # Lista para guardar cada incógnita\n",
    "\n",
    "# Iteramos sobre cada columna (una por cada variable del sistema)\n",
    "for i in range(len(b)):\n",
    "    Ai = np.copy(A)           # Copiamos A\n",
    "    Ai[:, i] = b              # Reemplazamos la i-ésima columna por el vector b\n",
    "    # Aplicamos determinante y cociente: xi = det(Ai)/det(A)\n",
    "    sol_cramer.append(np.linalg.det(Ai) / detA)\n",
    "\n",
    "t2 = time.time()              # Tiempo final\n",
    "print(\"Método Cramer  →\", sol_cramer, \"Tiempo:\", round(t2-t1, 6), \"segundos\")\n",
    "\n",
    "# ------------------------------------------------------------------\n",
    "# --- Método 3: Usando np.linalg.solve ---\n",
    "t1 = time.time()              # Tiempo inicial\n",
    "x_solve = np.linalg.solve(A, b)   # Resuelve Ax = b de forma optimizada\n",
    "t2 = time.time()              # Tiempo final\n",
    "print(\"Método Solve   →\", x_solve, \"Tiempo:\", round(t2-t1, 6), \"segundos\")\n"
   ]
  },
  {
   "cell_type": "markdown",
   "metadata": {},
   "source": [
    "# 🧮 Operadores y Strings en Python\n",
    "\n",
    "| Tema | Símbolo / Código | Ejemplo | Resultado |\n",
    "|------|------------------|---------|-----------|\n",
    "| **Operadores Aritméticos** | `+ , - , * , / , // , % , **` | `7 // 2` | `3` (división entera) |\n",
    "| | | `7 % 2` | `1` (residuo) |\n",
    "| | | `2 ** 3` | `8` (potencia) |\n",
    "| **Operadores Lógicos** | `and , or , not` | `(True and False)` | `False` |\n",
    "| | | `(True or False)` | `True` |\n",
    "| | | `not True` | `False` |\n",
    "| **Strings** | `.upper()` | `\"hola\".upper()` | `\"HOLA\"` |\n",
    "| | `.lower()` | `\"HOLA\".lower()` | `\"hola\"` |\n",
    "| | `.split()` | `\"uno dos tres\".split()` | `[\"uno\",\"dos\",\"tres\"]` |\n",
    "| | `.join()` | `\" \".join([\"a\",\"b\",\"c\"])` | `\"a b c\"` |\n",
    "| | `slicing` | `\"python\"[1:4]` | `\"yth\"` |\n"
   ]
  }
 ],
 "metadata": {
  "kernelspec": {
   "display_name": "nickel20",
   "language": "python",
   "name": "python3"
  },
  "language_info": {
   "codemirror_mode": {
    "name": "ipython",
    "version": 3
   },
   "file_extension": ".py",
   "mimetype": "text/x-python",
   "name": "python",
   "nbconvert_exporter": "python",
   "pygments_lexer": "ipython3",
   "version": "3.11.0"
  }
 },
 "nbformat": 4,
 "nbformat_minor": 2
}
